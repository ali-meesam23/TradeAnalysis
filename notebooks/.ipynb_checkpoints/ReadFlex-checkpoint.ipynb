{
 "cells": [
  {
   "cell_type": "code",
   "execution_count": 1,
   "id": "9d5d6077",
   "metadata": {},
   "outputs": [
    {
     "data": {
      "text/html": [
       "        <script type=\"text/javascript\">\n",
       "        window.PlotlyConfig = {MathJaxConfig: 'local'};\n",
       "        if (window.MathJax && window.MathJax.Hub && window.MathJax.Hub.Config) {window.MathJax.Hub.Config({SVG: {font: \"STIX-Web\"}});}\n",
       "        if (typeof require !== 'undefined') {\n",
       "        require.undef(\"plotly\");\n",
       "        requirejs.config({\n",
       "            paths: {\n",
       "                'plotly': ['https://cdn.plot.ly/plotly-2.12.1.min']\n",
       "            }\n",
       "        });\n",
       "        require(['plotly'], function(Plotly) {\n",
       "            window._Plotly = Plotly;\n",
       "        });\n",
       "        }\n",
       "        </script>\n",
       "        "
      ]
     },
     "metadata": {},
     "output_type": "display_data"
    }
   ],
   "source": [
    "from plotly.offline import init_notebook_mode, iplot\n",
    "from plotly.graph_objs import *\n",
    "\n",
    "init_notebook_mode(connected=True)         # initiate notebook for offline plot\n"
   ]
  },
  {
   "cell_type": "code",
   "execution_count": 2,
   "id": "182a0a3d",
   "metadata": {},
   "outputs": [],
   "source": [
    "import os\n",
    "import pandas as pd\n",
    "from DataDownload import ohlc_update\n",
    "import talib as ta\n",
    "from Charting.IntradayCandleSticks import plot_candlestick_chart"
   ]
  },
  {
   "cell_type": "code",
   "execution_count": 3,
   "id": "5afd588f",
   "metadata": {},
   "outputs": [],
   "source": [
    "def set_signals(x):\n",
    "    if x['Buy/Sell'] == 'BUY' and x['Put/Call']=='C':\n",
    "        return 'buy'\n",
    "    if x['Buy/Sell'] == 'BUY' and x['Put/Call']=='P':\n",
    "        return 'sell'\n",
    "    if x['Put/Call']=='C':\n",
    "        return 'close-call'\n",
    "    elif x['Put/Call']=='P':\n",
    "        return 'close-put'\n",
    "    else:\n",
    "        return \"\""
   ]
  },
  {
   "cell_type": "code",
   "execution_count": 4,
   "id": "dd4635ff",
   "metadata": {},
   "outputs": [],
   "source": [
    "FILENAME  = 'Paper-06-wk2'\n",
    "tf = '5m' # CANDLE SIZE ON CHART"
   ]
  },
  {
   "cell_type": "code",
   "execution_count": 5,
   "id": "2dc74df7",
   "metadata": {},
   "outputs": [],
   "source": [
    "FILENAME = os.path.join(os.getenv(\"MAIN_DATA_PATH\"),'TradeReports','IB',FILENAME+'.csv')"
   ]
  },
  {
   "cell_type": "code",
   "execution_count": 6,
   "id": "5efcec69",
   "metadata": {},
   "outputs": [],
   "source": [
    "tradedf = pd.read_csv(FILENAME)\n",
    "\n",
    "tradedf['signals'] = tradedf.apply(lambda x: set_signals(x),axis=1)\n",
    "tradedf['Date/Time'] = pd.to_datetime(tradedf['Date/Time'])\n",
    "tradedf['Date/Time'] = tradedf['Date/Time'].apply(lambda x:x.replace(second=0))"
   ]
  },
  {
   "cell_type": "code",
   "execution_count": 7,
   "id": "b49e442f",
   "metadata": {},
   "outputs": [],
   "source": [
    "# tradedf = tradedf[[s in ['STK','OPT'] for s in tradedf.AssetClass.tolist()]]\n",
    "tradedf = tradedf[tradedf.AssetClass=='OPT']"
   ]
  },
  {
   "cell_type": "code",
   "execution_count": 8,
   "id": "8a1c827c",
   "metadata": {},
   "outputs": [],
   "source": [
    "all_tickers = list(set(tradedf.UnderlyingSymbol.tolist()))"
   ]
  },
  {
   "cell_type": "code",
   "execution_count": 9,
   "id": "f025fabb",
   "metadata": {},
   "outputs": [],
   "source": [
    "# DOWNLOAD DATA_DICT FOR ALL TICKERS @ 1m\n",
    "# >> run routine IB routine >> to get the latest data for all the tickers"
   ]
  },
  {
   "cell_type": "code",
   "execution_count": null,
   "id": "62a8fd38",
   "metadata": {},
   "outputs": [
    {
     "name": "stdout",
     "output_type": "stream",
     "text": [
      "Token Refresh...\r"
     ]
    }
   ],
   "source": [
    "data_dict = {t:ohlc_update(t,'1m',fresh_download=True) for t in all_tickers}\n",
    "data_dict_30 = {t:ohlc_update(t,tf,fresh_download=True) for t in all_tickers}"
   ]
  },
  {
   "cell_type": "code",
   "execution_count": null,
   "id": "990d596a",
   "metadata": {},
   "outputs": [],
   "source": [
    "for ticker in data_dict_30:\n",
    "    data_dict_30[ticker]['ema1'] = ta.EMA(data_dict_30[ticker].Close,20)\n",
    "    data_dict_30[ticker]['ema2'] = ta.EMA(data_dict_30[ticker].Close,50)\n",
    "    data_dict_30[ticker]['Vol5'] = ta.SMA(data_dict_30[ticker].Volume,5)"
   ]
  },
  {
   "cell_type": "code",
   "execution_count": null,
   "id": "bf93a9bc",
   "metadata": {},
   "outputs": [],
   "source": [
    "{t:data_dict[t].iloc[-1].name for t in data_dict}"
   ]
  },
  {
   "cell_type": "code",
   "execution_count": null,
   "id": "d6ba48d3",
   "metadata": {},
   "outputs": [],
   "source": [
    "all_dates = list(set(tradedf['Date/Time'].apply(lambda x:x.strftime(\"%Y-%m-%d\")).tolist()))"
   ]
  },
  {
   "cell_type": "code",
   "execution_count": null,
   "id": "2101ece0",
   "metadata": {},
   "outputs": [],
   "source": [
    "# START WITH ONE DATE"
   ]
  },
  {
   "cell_type": "code",
   "execution_count": null,
   "id": "95402287",
   "metadata": {},
   "outputs": [],
   "source": [
    "# DATE = all_dates[0]\n",
    "for DATE in all_dates:\n",
    "\n",
    "    # GET TRADES FOR THE DAY\n",
    "    daily_trades = tradedf.set_index('Date/Time').loc[DATE].reset_index()\n",
    "\n",
    "    # daily_trades['Date/Time'] = daily_trades['Date/Time'].apply(lambda x: x.replace(second=0))\n",
    "\n",
    "    # START WITH ONE TICKER\n",
    "\n",
    "    daily_tickers = list(set(daily_trades.UnderlyingSymbol.tolist()))\n",
    "    for ticker in daily_tickers:\n",
    "        tkr_trades = daily_trades[daily_trades.UnderlyingSymbol==ticker]\n",
    "        tdf = data_dict[ticker].loc[DATE].between_time(\"06:30\",\"16:30\")\n",
    "        # CONTRACTS\n",
    "        CONTRACTS = \"<br>\".join(list(set(tkr_trades.Symbol.tolist())))\n",
    "        # GET % PNL VALUES\n",
    "        if len(tkr_trades[tkr_trades['Put/Call']=='C'])>0:\n",
    "            # PERCENTAGE PNL +/-\n",
    "            call_pnl = int((tkr_trades[\n",
    "                (tkr_trades['Buy/Sell']=='SELL')&\n",
    "                (tkr_trades['Put/Call']=='C')\n",
    "            ].NetCash.sum()/\\\n",
    "            abs(tkr_trades[\n",
    "                (tkr_trades['Buy/Sell']=='BUY')&\n",
    "                (tkr_trades['Put/Call']=='C')\n",
    "            ].NetCash.sum())-1)*100)\n",
    "        else:\n",
    "            call_pnl = None\n",
    "\n",
    "        if len(tkr_trades[tkr_trades['Put/Call']=='P'])>0:\n",
    "            # PERCENTAGE PNL +/-\n",
    "            put_pnl = int((tkr_trades[\n",
    "                (tkr_trades['Buy/Sell']=='SELL')&\n",
    "                (tkr_trades['Put/Call']=='P')\n",
    "            ].NetCash.sum()/\\\n",
    "            abs(tkr_trades[\n",
    "                (tkr_trades['Buy/Sell']=='BUY')&\n",
    "                (tkr_trades['Put/Call']=='P')\n",
    "            ].NetCash.sum())-1)*100)\n",
    "        else:\n",
    "            put_pnl = None\n",
    "\n",
    "        PNLs = \"PnL: \"\n",
    "        if call_pnl:\n",
    "            call_pnl = f\"+{call_pnl}\" if call_pnl>0 else f\"{call_pnl}\"\n",
    "            PNLs+= f\"{call_pnl}% (C)\"\n",
    "        if put_pnl and call_pnl:\n",
    "            put_pnl = f\"+{put_pnl}\" if put_pnl>0 else f\"{put_pnl}\"\n",
    "            PNLs+= f\" | {put_pnl}% - (P)\"\n",
    "        elif put_pnl:\n",
    "            put_pnl = f\"+{put_pnl}\" if put_pnl>0 else f\"{put_pnl}\"\n",
    "            PNLs+= f\"{put_pnl}% - (P)\"\n",
    "\n",
    "        tkr_trades.dropna(inplace=True)\n",
    "\n",
    "        # GET SIGNALS\n",
    "        tkr_trades['S'] = tkr_trades['Date/Time'].apply(lambda x: tdf.loc[x].Close)\n",
    "        signals = tkr_trades[['Date/Time','signals','S']].values.tolist()\n",
    "\n",
    "        # CHART INFO\n",
    "        title = f'{ticker} - {tf}'\n",
    "        trade_stats = f'{CONTRACTS}<br>{PNLs}'\n",
    "        overlay = ['ema1','ema2']\n",
    "        subplots =[\n",
    "            {'name':'Volume','type':'bar',\"overlay\":['Vol5']}\n",
    "        ]\n",
    "\n",
    "        _df = data_dict_30[ticker].loc[DATE]\n",
    "\n",
    "        fig = plot_candlestick_chart(_df,overlay=overlay,\n",
    "            subplots=subplots,\n",
    "            trade_stats=trade_stats,\n",
    "            signals=signals,\n",
    "            title=title)\n",
    "        \n",
    "        # DOWNLOADING LOCATION\n",
    "        graph_folder = os.path.join(os.path.dirname(FILENAME),os.path.basename(FILENAME).rstrip('.csv'))\n",
    "        if not os.path.exists(graph_folder):\n",
    "            os.makedirs(graph_folder)\n",
    "        _chart_path = os.path.join(graph_folder,f'{DATE.replace(\"-\",\"\")}-{ticker}-{tf}.html')\n",
    "        fig.write_html(_chart_path)"
   ]
  },
  {
   "cell_type": "code",
   "execution_count": null,
   "id": "68a3004d",
   "metadata": {},
   "outputs": [],
   "source": [
    "# os.path.join(graph_folder,f'{DATE.replace(\"-\",\"\")}-{ticker}-{tf}.html')\n"
   ]
  },
  {
   "cell_type": "code",
   "execution_count": null,
   "id": "ddd671c0",
   "metadata": {},
   "outputs": [],
   "source": []
  }
 ],
 "metadata": {
  "kernelspec": {
   "display_name": "Python 3 (ipykernel)",
   "language": "python",
   "name": "python3"
  },
  "language_info": {
   "codemirror_mode": {
    "name": "ipython",
    "version": 3
   },
   "file_extension": ".py",
   "mimetype": "text/x-python",
   "name": "python",
   "nbconvert_exporter": "python",
   "pygments_lexer": "ipython3",
   "version": "3.8.15"
  }
 },
 "nbformat": 4,
 "nbformat_minor": 5
}
